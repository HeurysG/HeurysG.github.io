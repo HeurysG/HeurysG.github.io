{
 "cells": [
  {
   "cell_type": "markdown",
   "id": "98f7129e",
   "metadata": {},
   "source": [
    "# Cookie Cats A/B Test — Does Moving the Gate Improve Retention?\n",
    "\n",
    "**Goal** Measure the impact of moving the gate from level 30 → 40 on Day-1 and Day-7 retention.\n",
    "\n",
    "**Design** Randomized A/B test: `gate_30` (control) vs `gate_40` (treatment).  \n",
    "**Dataset** One row per player with `version`, `sum_gamerounds`, `retention_1`, `retention_7`.\n",
    "\n",
    "**Analysis plan**\n",
    "1) EDA + data cleaning (drop non-active users with `sum_gamerounds == 0`).  \n",
    "2) Estimate retention rates by version; visualize.  \n",
    "3) Statistical test: two-proportion z-test for D1 and D7.  \n",
    "4) Report effect sizes (percentage-point deltas) and CIs; business recommendation.\n",
    "\n",
    "**Note on populations** ITT (all users) and Per-Protocol (active users) are reported for A/B testing. This notebook focuses on *active users* (played ≥1 round) and uses ITT as a sensitivity check."
   ]
  },
  {
   "cell_type": "code",
   "execution_count": 51,
   "id": "52dc4720",
   "metadata": {},
   "outputs": [],
   "source": [
    "import pandas as pd\n",
    "import numpy as np \n",
    "import matplotlib.pyplot as plt\n",
    "import matplotlib.ticker as mtick\n",
    "import seaborn as sns\n",
    "from pathlib import Path"
   ]
  },
  {
   "cell_type": "code",
   "execution_count": 5,
   "id": "5f2b9264",
   "metadata": {},
   "outputs": [],
   "source": [
    "# loading in dataset \n",
    "df = pd.read_csv(\"../data/mobile-games-ab-testing.csv\")"
   ]
  },
  {
   "cell_type": "code",
   "execution_count": 18,
   "id": "720b7bdb",
   "metadata": {},
   "outputs": [
    {
     "name": "stdout",
     "output_type": "stream",
     "text": [
      "<class 'pandas.core.frame.DataFrame'>\n",
      "RangeIndex: 90189 entries, 0 to 90188\n",
      "Data columns (total 5 columns):\n",
      " #   Column          Non-Null Count  Dtype \n",
      "---  ------          --------------  ----- \n",
      " 0   userid          90189 non-null  int64 \n",
      " 1   version         90189 non-null  object\n",
      " 2   sum_gamerounds  90189 non-null  int64 \n",
      " 3   retention_1     90189 non-null  bool  \n",
      " 4   retention_7     90189 non-null  bool  \n",
      "dtypes: bool(2), int64(2), object(1)\n",
      "memory usage: 2.2+ MB\n"
     ]
    },
    {
     "data": {
      "text/plain": [
       "userid            0\n",
       "version           0\n",
       "sum_gamerounds    0\n",
       "retention_1       0\n",
       "retention_7       0\n",
       "dtype: int64"
      ]
     },
     "execution_count": 18,
     "metadata": {},
     "output_type": "execute_result"
    }
   ],
   "source": [
    "# EDA below\n",
    "df.head()\n",
    "df.info()\n",
    "df.shape\n",
    "df.describe().T\n",
    "df.isnull().sum().sort_values(ascending = False)"
   ]
  },
  {
   "cell_type": "code",
   "execution_count": null,
   "id": "fd990653",
   "metadata": {},
   "outputs": [
    {
     "name": "stdout",
     "output_type": "stream",
     "text": [
      "<class 'pandas.core.frame.DataFrame'>\n",
      "RangeIndex: 90189 entries, 0 to 90188\n",
      "Data columns (total 5 columns):\n",
      " #   Column          Non-Null Count  Dtype   \n",
      "---  ------          --------------  -----   \n",
      " 0   userid          90189 non-null  int64   \n",
      " 1   version         90189 non-null  category\n",
      " 2   sum_gamerounds  90189 non-null  int64   \n",
      " 3   retention_1     90189 non-null  bool    \n",
      " 4   retention_7     90189 non-null  bool    \n",
      "dtypes: bool(2), category(1), int64(2)\n",
      "memory usage: 1.6 MB\n"
     ]
    }
   ],
   "source": [
    "# Sanity checking data types but we've seen this above already \n",
    "df.dtypes\n",
    "\n",
    "# This slipped me up above but version is currently stored as an object. I will be changing it to category for memory effiency, performance, and semantics.\n",
    "df['version'] = df['version'].astype('category')\n",
    "df.info()"
   ]
  },
  {
   "cell_type": "code",
   "execution_count": 31,
   "id": "e67c00c2",
   "metadata": {},
   "outputs": [
    {
     "name": "stderr",
     "output_type": "stream",
     "text": [
      "C:\\Users\\darke\\AppData\\Local\\Temp\\ipykernel_92328\\2389869586.py:1: FutureWarning: The default of observed=False is deprecated and will be changed to True in a future version of pandas. Pass observed=False to retain current behavior or observed=True to adopt the future default and silence this warning.\n",
      "  retention_summary = df.groupby('version')[['retention_1', 'retention_7']].mean().reset_index()\n"
     ]
    },
    {
     "data": {
      "text/html": [
       "<div>\n",
       "<style scoped>\n",
       "    .dataframe tbody tr th:only-of-type {\n",
       "        vertical-align: middle;\n",
       "    }\n",
       "\n",
       "    .dataframe tbody tr th {\n",
       "        vertical-align: top;\n",
       "    }\n",
       "\n",
       "    .dataframe thead th {\n",
       "        text-align: right;\n",
       "    }\n",
       "</style>\n",
       "<table border=\"1\" class=\"dataframe\">\n",
       "  <thead>\n",
       "    <tr style=\"text-align: right;\">\n",
       "      <th></th>\n",
       "      <th>version</th>\n",
       "      <th>retention_1</th>\n",
       "      <th>retention_7</th>\n",
       "    </tr>\n",
       "  </thead>\n",
       "  <tbody>\n",
       "    <tr>\n",
       "      <th>0</th>\n",
       "      <td>gate_30</td>\n",
       "      <td>44.818792</td>\n",
       "      <td>19.020134</td>\n",
       "    </tr>\n",
       "    <tr>\n",
       "      <th>1</th>\n",
       "      <td>gate_40</td>\n",
       "      <td>44.228275</td>\n",
       "      <td>18.200004</td>\n",
       "    </tr>\n",
       "  </tbody>\n",
       "</table>\n",
       "</div>"
      ],
      "text/plain": [
       "   version  retention_1  retention_7\n",
       "0  gate_30    44.818792    19.020134\n",
       "1  gate_40    44.228275    18.200004"
      ]
     },
     "execution_count": 31,
     "metadata": {},
     "output_type": "execute_result"
    }
   ],
   "source": [
    "retention_summary = df.groupby('version')[['retention_1', 'retention_7']].mean().reset_index()\n",
    "retention_summary\n",
    "# changing the day 1 retention and day 7 retention columns to percentage for ease of readability\n",
    "retention_summary[['retention_1', 'retention_7']] *= 100\n",
    "retention_summary"
   ]
  },
  {
   "cell_type": "markdown",
   "id": "ecc64868",
   "metadata": {},
   "source": [
    "As I continue in my EDA phase, I realize that players who have sum_gamerounds equal to zero should be removed. These players installed the game but never actually played a single round in the first 14 days. They're not considered 'active' players in this analysis and never entered the game loop. This is just noise without insight. Therefore I am removing them below."
   ]
  },
  {
   "cell_type": "code",
   "execution_count": null,
   "id": "5f352e89",
   "metadata": {},
   "outputs": [
    {
     "data": {
      "text/plain": [
       "count    86195.00000\n",
       "mean        54.27606\n",
       "std        199.19155\n",
       "min          1.00000\n",
       "25%          6.00000\n",
       "50%         18.00000\n",
       "75%         54.00000\n",
       "max      49854.00000\n",
       "Name: sum_gamerounds, dtype: float64"
      ]
     },
     "execution_count": 33,
     "metadata": {},
     "output_type": "execute_result"
    }
   ],
   "source": [
    "df = df[df['sum_gamerounds'] > 0] \n",
    "df['sum_gamerounds'].describe()\n",
    "# We now see the min is 1.00 , that's excellent, this means everyone played at least once. "
   ]
  },
  {
   "cell_type": "markdown",
   "id": "f243b728",
   "metadata": {},
   "source": [
    "To further explain, in this A/B testing experiment, I have moved from ITT (Intention-to-Treat) to Per-Protocol population. So instead of the install-to-retain funnel, I am looking at the active users and looking at data that reflects the game's changes and effects on engaged players. This is to ensure the users included in this analysis engaged with the game and were exposed to the experimental condition."
   ]
  },
  {
   "cell_type": "code",
   "execution_count": 44,
   "id": "bb1b9027",
   "metadata": {},
   "outputs": [
    {
     "data": {
      "image/png": "[encoded data removed]",
      "text/plain": [
       "<Figure size 800x500 with 1 Axes>"
      ]
     },
     "metadata": {},
     "output_type": "display_data"
    }
   ],
   "source": [
    "retention_melted = df.melt(\n",
    "    id_vars='version', \n",
    "    value_vars=['retention_1', 'retention_7'], \n",
    "    var_name='day', \n",
    "    value_name='retained'\n",
    ")\n",
    "retention_melted.head() \n",
    "\n",
    "retention_melted = df.melt(\n",
    "    id_vars='version',\n",
    "    value_vars=['retention_1','retention_7'],\n",
    "    var_name='day',\n",
    "    value_name='retained'\n",
    ")\n",
    "\n",
    "sns.set_theme(style=\"whitegrid\")\n",
    "\n",
    "fig, ax = plt.subplots(figsize=(8,5))\n",
    "\n",
    "# Plot means with 95% CIs\n",
    "ax = sns.barplot(\n",
    "    data=retention_melted,\n",
    "    x='day', y='retained', hue='version',\n",
    "    estimator=np.mean,\n",
    "    errorbar=('ci', 95)\n",
    ")\n",
    "\n",
    "# Percent axis\n",
    "ax.yaxis.set_major_formatter(mtick.PercentFormatter(1.0))\n",
    "\n",
    "# Nice spine and layout\n",
    "sns.despine()\n",
    "plt.title(\"Day 1 and Day 7 Retention by Game Version\", fontsize=13, weight='bold')\n",
    "plt.ylabel(\"Retention Rate (%)\")\n",
    "plt.xlabel(\"\")\n",
    "plt.tight_layout()\n",
    "\n",
    "# Add percent labels on the bars\n",
    "for container in ax.containers:\n",
    "    heights = [b.get_height()*100 for b in container]\n",
    "    ax.bar_label(container, labels=[f\"{h:.1f}%\" for h in heights],\n",
    "                 label_type='edge', fontsize=9)\n",
    "\n",
    "plt.show()"
   ]
  },
  {
   "cell_type": "markdown",
   "id": "deba6728",
   "metadata": {},
   "source": [
    "So we’ve just visualized retention differences between the two experimental versions (gate_30 vs gate_40), but we need to know whether those differences are statistically significant or could have occurred by chance. Since retention_1 and retention_7 are binary ( 1 = retained, 0 = not retained), a two-proportion z-test is the correct statistical test to compare retention rates between groups. We test the null hypothesis H0 as retention rate for gate_30 = retention rate for gate_40. In other words, there is no difference. Alternative hypothesis is these retention rates are not equal. If the resulting p-value is less than 0.05, the difference is statistically significant."
   ]
  },
  {
   "cell_type": "code",
   "execution_count": 56,
   "id": "774f9540",
   "metadata": {},
   "outputs": [
    {
     "name": "stdout",
     "output_type": "stream",
     "text": [
      "retention_1: z=1.577, p=0.1147\n",
      "retention_7: z=3.013, p=0.002587\n"
     ]
    }
   ],
   "source": [
    "from statsmodels.stats.proportion import proportions_ztest\n",
    "\n",
    "for col in ['retention_1', 'retention_7']:\n",
    "    successes = df.groupby('version', observed = True)[col].sum()\n",
    "    total = df.groupby('version', observed = True)[col].count()\n",
    "    stat, pval = proportions_ztest(successes, total)\n",
    "    print(f\"{col}: z={stat:.3f}, p={pval:.4g}\") "
   ]
  },
  {
   "cell_type": "markdown",
   "id": "f2f0973b",
   "metadata": {},
   "source": [
    "### Statistical Significance (Two-Proportion Z-Test)\n",
    "\n",
    "Here I compare binary retention rates between `gate_30` and `gate_40` using a two-proportion z-test.\n",
    "\n",
    "- **H₀:** Retention rate (`gate_30`) = Retention rate (`gate_40`)  \n",
    "- **H₁:** Retention rates differ\n",
    "\n",
    "I report z-statistic, p-value, and 95% CIs (Wilson) per group, plus the **percentage-point delta** and a CI for the difference. A result is considered statistically significant at α = 0.05.\n"
   ]
  },
  {
   "cell_type": "code",
   "execution_count": 54,
   "id": "2c5c4dee",
   "metadata": {},
   "outputs": [
    {
     "name": "stderr",
     "output_type": "stream",
     "text": [
      "C:\\Users\\darke\\AppData\\Local\\Temp\\ipykernel_92328\\3513257645.py:14: FutureWarning: The default of observed=False is deprecated and will be changed to True in a future version of pandas. Pass observed=False to retain current behavior or observed=True to adopt the future default and silence this warning.\n",
      "  g = df_active.groupby('version')[col]\n",
      "C:\\Users\\darke\\AppData\\Local\\Temp\\ipykernel_92328\\3513257645.py:14: FutureWarning: The default of observed=False is deprecated and will be changed to True in a future version of pandas. Pass observed=False to retain current behavior or observed=True to adopt the future default and silence this warning.\n",
      "  g = df_active.groupby('version')[col]\n"
     ]
    },
    {
     "data": {
      "text/html": [
       "<div>\n",
       "<style scoped>\n",
       "    .dataframe tbody tr th:only-of-type {\n",
       "        vertical-align: middle;\n",
       "    }\n",
       "\n",
       "    .dataframe tbody tr th {\n",
       "        vertical-align: top;\n",
       "    }\n",
       "\n",
       "    .dataframe thead th {\n",
       "        text-align: right;\n",
       "    }\n",
       "</style>\n",
       "<table border=\"1\" class=\"dataframe\">\n",
       "  <thead>\n",
       "    <tr style=\"text-align: right;\">\n",
       "      <th></th>\n",
       "      <th>rate_gate_30</th>\n",
       "      <th>rate_gate_40</th>\n",
       "      <th>diff_pp</th>\n",
       "      <th>z_stat</th>\n",
       "      <th>p_value</th>\n",
       "      <th>ci_gate_30_low</th>\n",
       "      <th>ci_gate_30_high</th>\n",
       "      <th>ci_gate_40_low</th>\n",
       "      <th>ci_gate_40_high</th>\n",
       "      <th>diff_ci_low</th>\n",
       "      <th>diff_ci_high</th>\n",
       "    </tr>\n",
       "  </thead>\n",
       "  <tbody>\n",
       "    <tr>\n",
       "      <th>retention_1</th>\n",
       "      <td>46.75</td>\n",
       "      <td>46.22</td>\n",
       "      <td>-0.54</td>\n",
       "      <td>1.577</td>\n",
       "      <td>0.1147</td>\n",
       "      <td>46.28</td>\n",
       "      <td>47.23</td>\n",
       "      <td>45.75</td>\n",
       "      <td>46.69</td>\n",
       "      <td>-1.20</td>\n",
       "      <td>0.13</td>\n",
       "    </tr>\n",
       "    <tr>\n",
       "      <th>retention_7</th>\n",
       "      <td>19.84</td>\n",
       "      <td>19.03</td>\n",
       "      <td>-0.81</td>\n",
       "      <td>3.013</td>\n",
       "      <td>0.002587</td>\n",
       "      <td>19.47</td>\n",
       "      <td>20.22</td>\n",
       "      <td>18.67</td>\n",
       "      <td>19.40</td>\n",
       "      <td>-1.34</td>\n",
       "      <td>-0.28</td>\n",
       "    </tr>\n",
       "  </tbody>\n",
       "</table>\n",
       "</div>"
      ],
      "text/plain": [
       "             rate_gate_30  rate_gate_40  diff_pp  z_stat   p_value  \\\n",
       "retention_1         46.75         46.22    -0.54   1.577    0.1147   \n",
       "retention_7         19.84         19.03    -0.81   3.013  0.002587   \n",
       "\n",
       "             ci_gate_30_low  ci_gate_30_high  ci_gate_40_low  ci_gate_40_high  \\\n",
       "retention_1           46.28            47.23           45.75            46.69   \n",
       "retention_7           19.47            20.22           18.67            19.40   \n",
       "\n",
       "             diff_ci_low  diff_ci_high  \n",
       "retention_1        -1.20          0.13  \n",
       "retention_7        -1.34         -0.28  "
      ]
     },
     "execution_count": 54,
     "metadata": {},
     "output_type": "execute_result"
    }
   ],
   "source": [
    "from statsmodels.stats.proportion import proportions_ztest, proportion_confint\n",
    "try:\n",
    "    # statsmodels ≥0.14\n",
    "    from statsmodels.stats.proportion import confint_proportions_2indep\n",
    "    HAS_DIFF_CI = True\n",
    "except Exception:\n",
    "    HAS_DIFF_CI = False\n",
    "\n",
    "# Ensure active players only (already done earlier, but harmless to re-assert)\n",
    "df_active = df[df['sum_gamerounds'] > 0].copy()\n",
    "\n",
    "# Helper to compute group stats\n",
    "def group_stats(col):\n",
    "    g = df_active.groupby('version')[col]\n",
    "    successes = g.sum().astype(int)\n",
    "    totals = g.count().astype(int)\n",
    "    rates = successes / totals\n",
    "\n",
    "    # Two-proportion z-test: order as gate_30, gate_40\n",
    "    s = successes.reindex(['gate_30', 'gate_40'])\n",
    "    t = totals.reindex(['gate_30', 'gate_40'])\n",
    "    z, p = proportions_ztest(s, t)\n",
    "\n",
    "    # CIs for each group (Wilson is robust for proportions)\n",
    "    ci_30 = proportion_confint(s['gate_30'], t['gate_30'], method='wilson')\n",
    "    ci_40 = proportion_confint(s['gate_40'], t['gate_40'], method='wilson')\n",
    "\n",
    "    # Difference in proportions (gate_40 - gate_30)\n",
    "    diff = rates['gate_40'] - rates['gate_30']\n",
    "    if HAS_DIFF_CI:\n",
    "        lo, hi = confint_proportions_2indep(s['gate_40'], t['gate_40'],\n",
    "                                            s['gate_30'], t['gate_30'],\n",
    "                                            method='wald')\n",
    "        diff_ci = (lo, hi)\n",
    "    else:\n",
    "        diff_ci = (np.nan, np.nan)\n",
    "\n",
    "    out = pd.Series({\n",
    "        'rate_gate_30': rates['gate_30'],\n",
    "        'rate_gate_40': rates['gate_40'],\n",
    "        'diff_pp': diff * 100,              # percentage points\n",
    "        'z_stat': z,\n",
    "        'p_value': p,\n",
    "        'ci_gate_30_low': ci_30[0],\n",
    "        'ci_gate_30_high': ci_30[1],\n",
    "        'ci_gate_40_low': ci_40[0],\n",
    "        'ci_gate_40_high': ci_40[1],\n",
    "        'diff_ci_low': diff_ci[0],\n",
    "        'diff_ci_high': diff_ci[1],\n",
    "    })\n",
    "    return out\n",
    "\n",
    "summary = pd.concat(\n",
    "    [group_stats('retention_1'), group_stats('retention_7')],\n",
    "    axis=1\n",
    ").T\n",
    "summary.index = ['retention_1', 'retention_7']\n",
    "\n",
    "# Pretty print as percents\n",
    "display_df = summary.copy()\n",
    "for c in ['rate_gate_30','rate_gate_40','ci_gate_30_low','ci_gate_30_high','ci_gate_40_low','ci_gate_40_high','diff_ci_low','diff_ci_high']:\n",
    "    display_df[c] = (display_df[c] * 100).round(2)\n",
    "display_df['p_value'] = display_df['p_value'].map(lambda x: f\"{x:.4g}\")\n",
    "display_df['z_stat'] = display_df['z_stat'].round(3)\n",
    "display_df['diff_pp'] = display_df['diff_pp'].round(2)\n",
    "\n",
    "display_df = display_df[['rate_gate_30','rate_gate_40','diff_pp','z_stat','p_value',\n",
    "                         'ci_gate_30_low','ci_gate_30_high','ci_gate_40_low','ci_gate_40_high','diff_ci_low','diff_ci_high']]\n",
    "display_df"
   ]
  },
  {
   "cell_type": "code",
   "execution_count": 55,
   "id": "445a3e05",
   "metadata": {},
   "outputs": [
    {
     "data": {
      "text/plain": [
       "np.float64(0.020471077330752485)"
      ]
     },
     "execution_count": 55,
     "metadata": {},
     "output_type": "execute_result"
    }
   ],
   "source": [
    "p1, p2 = 0.1984, 0.1903  # convert percentages to proportions\n",
    "h = 2 * (np.arcsin(np.sqrt(p1)) - np.arcsin(np.sqrt(p2)))\n",
    "abs(h)"
   ]
  },
  {
   "cell_type": "markdown",
   "id": "e62ca469",
   "metadata": {},
   "source": [
    "### Effect Size & Interpretation\n",
    "\n",
    "The absolute difference in Day-7 retention (Δ = −0.81 pp) represents the **effect size** of the experiment.  \n",
    "While statistically significant (p ≈ 0.0026), the standardized Cohen’s h ≈ 0.02 indicates a **very small** practical impact.  \n",
    "Thus, moving the gate from level 30 → 40 slightly reduced long-term retention without producing a meaningful user-experience gain."
   ]
  },
  {
   "cell_type": "markdown",
   "id": "06fe0502",
   "metadata": {},
   "source": [
    "## Results & Recommendation\n",
    "\n",
    "- **D1 retention:** difference not statistically significant (p ≈ 0.115).  \n",
    "- **D7 retention:** **significant decrease** when moving the gate to level 40 (p ≈ 0.0026).  \n",
    "- Effect size: ΔD7 ≈ -0.81 percentage points (gate_40 − gate_30).  \n",
    "- **Recommendation:** Keep the gate at **level 30**. Despite appearing player-friendly, delaying the gate likely removed an early commitment point that helps medium-term engagement.\n",
    "\n",
    "**Notes.** I exclude users with `sum_gamerounds == 0` (no activation). ITT analysis (all users) is available as a sensitivity check and yields the same directional conclusion.\n"
   ]
  }
 ],
 "metadata": {
  "kernelspec": {
   "display_name": "Python 3",
   "language": "python",
   "name": "python3"
  },
  "language_info": {
   "codemirror_mode": {
    "name": "ipython",
    "version": 3
   },
   "file_extension": ".py",
   "mimetype": "text/x-python",
   "name": "python",
   "nbconvert_exporter": "python",
   "pygments_lexer": "ipython3",
   "version": "3.12.0"
  }
 },
 "nbformat": 4,
 "nbformat_minor": 5
}
