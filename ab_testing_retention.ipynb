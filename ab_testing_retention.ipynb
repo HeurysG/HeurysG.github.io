{
 "cells": [
  {
   "cell_type": "markdown",
   "id": "98f7129e",
   "metadata": {},
   "source": [
    "# Cookie Cats A/B Test — Does Moving the Gate Improve Retention?\n",
    "\n",
    "**Goal** Measure the impact of moving the gate from level 30 → 40 on Day-1 and Day-7 retention.\n",
    "\n",
    "**Design** Randomized A/B test: `gate_30` (control) vs `gate_40` (treatment).  \n",
    "**Dataset** One row per player with `version`, `sum_gamerounds`, `retention_1`, `retention_7`.\n",
    "\n",
    "**Analysis plan**\n",
    "1) EDA + data cleaning (drop non-active users with `sum_gamerounds == 0`).  \n",
    "2) Estimate retention rates by version; visualize.  \n",
    "3) Statistical test: two-proportion z-test for D1 and D7.  \n",
    "4) Report effect sizes (percentage-point deltas) and CIs; business recommendation.\n",
    "\n",
    "\n",
    "**Result** Day 1 retention unchanged; Day 7 retention significantly lower.\n",
    "\n",
    "**Effect** −0.8 percentage-point drop (small magnitude, statistically significant).\n",
    "\n",
    "**Recommendation:** Keep the gate at level 30 for better long-term engagement.\n",
    "\n",
    "**Note on populations** ITT (all users) and Per-Protocol (active users) are reported for A/B testing. This notebook focuses on *active users* (played ≥1 round) and uses ITT as a sensitivity check."
   ]
  },
  {
   "cell_type": "code",
   "execution_count": 12,
   "id": "52dc4720",
   "metadata": {},
   "outputs": [],
   "source": [
    "import pandas as pd\n",
    "import numpy as np \n",
    "import matplotlib.pyplot as plt\n",
    "import matplotlib.ticker as mtick\n",
    "import seaborn as sns\n",
    "import pathlib \n",
    "from pathlib import Path\n",
    "from IPython.display import display"
   ]
  },
  {
   "cell_type": "code",
   "execution_count": 13,
   "id": "5f2b9264",
   "metadata": {},
   "outputs": [],
   "source": [
    "# loading in dataset \n",
    "df = pd.read_csv(\"data/mobile-games-ab-testing.csv\")"
   ]
  },
  {
   "cell_type": "code",
   "execution_count": 14,
   "id": "720b7bdb",
   "metadata": {},
   "outputs": [
    {
     "name": "stdout",
     "output_type": "stream",
     "text": [
      "<class 'pandas.core.frame.DataFrame'>\n",
      "RangeIndex: 90189 entries, 0 to 90188\n",
      "Data columns (total 5 columns):\n",
      " #   Column          Non-Null Count  Dtype \n",
      "---  ------          --------------  ----- \n",
      " 0   userid          90189 non-null  int64 \n",
      " 1   version         90189 non-null  object\n",
      " 2   sum_gamerounds  90189 non-null  int64 \n",
      " 3   retention_1     90189 non-null  bool  \n",
      " 4   retention_7     90189 non-null  bool  \n",
      "dtypes: bool(2), int64(2), object(1)\n",
      "memory usage: 2.2+ MB\n"
     ]
    },
    {
     "data": {
      "text/plain": [
       "userid            0\n",
       "version           0\n",
       "sum_gamerounds    0\n",
       "retention_1       0\n",
       "retention_7       0\n",
       "dtype: int64"
      ]
     },
     "execution_count": 14,
     "metadata": {},
     "output_type": "execute_result"
    }
   ],
   "source": [
    "# EDA below\n",
    "df.head()\n",
    "df.info()\n",
    "df.shape\n",
    "df.describe().T\n",
    "df.isnull().sum().sort_values(ascending = False)"
   ]
  },
  {
   "cell_type": "code",
   "execution_count": 15,
   "id": "fd990653",
   "metadata": {},
   "outputs": [
    {
     "name": "stdout",
     "output_type": "stream",
     "text": [
      "<class 'pandas.core.frame.DataFrame'>\n",
      "RangeIndex: 90189 entries, 0 to 90188\n",
      "Data columns (total 5 columns):\n",
      " #   Column          Non-Null Count  Dtype   \n",
      "---  ------          --------------  -----   \n",
      " 0   userid          90189 non-null  int64   \n",
      " 1   version         90189 non-null  category\n",
      " 2   sum_gamerounds  90189 non-null  int64   \n",
      " 3   retention_1     90189 non-null  bool    \n",
      " 4   retention_7     90189 non-null  bool    \n",
      "dtypes: bool(2), category(1), int64(2)\n",
      "memory usage: 1.6 MB\n"
     ]
    }
   ],
   "source": [
    "# Sanity checking data types but we've seen this above already \n",
    "df.dtypes\n",
    "\n",
    "# This slipped me up above but version is currently stored as an object. I will be changing it to category for memory effiency, performance, and semantics.\n",
    "df['version'] = df['version'].astype('category')\n",
    "df.info()"
   ]
  },
  {
   "cell_type": "code",
   "execution_count": 16,
   "id": "e67c00c2",
   "metadata": {},
   "outputs": [
    {
     "data": {
      "text/html": [
       "<div>\n",
       "<style scoped>\n",
       "    .dataframe tbody tr th:only-of-type {\n",
       "        vertical-align: middle;\n",
       "    }\n",
       "\n",
       "    .dataframe tbody tr th {\n",
       "        vertical-align: top;\n",
       "    }\n",
       "\n",
       "    .dataframe thead th {\n",
       "        text-align: right;\n",
       "    }\n",
       "</style>\n",
       "<table border=\"1\" class=\"dataframe\">\n",
       "  <thead>\n",
       "    <tr style=\"text-align: right;\">\n",
       "      <th></th>\n",
       "      <th>version</th>\n",
       "      <th>retention_1</th>\n",
       "      <th>retention_7</th>\n",
       "    </tr>\n",
       "  </thead>\n",
       "  <tbody>\n",
       "    <tr>\n",
       "      <th>0</th>\n",
       "      <td>gate_30</td>\n",
       "      <td>44.818792</td>\n",
       "      <td>19.020134</td>\n",
       "    </tr>\n",
       "    <tr>\n",
       "      <th>1</th>\n",
       "      <td>gate_40</td>\n",
       "      <td>44.228275</td>\n",
       "      <td>18.200004</td>\n",
       "    </tr>\n",
       "  </tbody>\n",
       "</table>\n",
       "</div>"
      ],
      "text/plain": [
       "   version  retention_1  retention_7\n",
       "0  gate_30    44.818792    19.020134\n",
       "1  gate_40    44.228275    18.200004"
      ]
     },
     "execution_count": 16,
     "metadata": {},
     "output_type": "execute_result"
    }
   ],
   "source": [
    "retention_summary = df.groupby('version', observed = 'True')[['retention_1', 'retention_7']].mean().reset_index()\n",
    "retention_summary\n",
    "# changing the day 1 retention and day 7 retention columns to percentage for ease of readability\n",
    "retention_summary[['retention_1', 'retention_7']] *= 100\n",
    "retention_summary"
   ]
  },
  {
   "cell_type": "markdown",
   "id": "ecc64868",
   "metadata": {},
   "source": [
    "As I continue in my EDA phase, I realize that players who have sum_gamerounds equal to zero should be removed. These players installed the game but never actually played a single round in the first 14 days. They're not considered 'active' players in this analysis and never entered the game loop. This is just noise without insight. Therefore I am removing them below."
   ]
  },
  {
   "cell_type": "code",
   "execution_count": 17,
   "id": "5f352e89",
   "metadata": {},
   "outputs": [
    {
     "data": {
      "text/plain": [
       "count    86195.00000\n",
       "mean        54.27606\n",
       "std        199.19155\n",
       "min          1.00000\n",
       "25%          6.00000\n",
       "50%         18.00000\n",
       "75%         54.00000\n",
       "max      49854.00000\n",
       "Name: sum_gamerounds, dtype: float64"
      ]
     },
     "execution_count": 17,
     "metadata": {},
     "output_type": "execute_result"
    }
   ],
   "source": [
    "df = df[df['sum_gamerounds'] > 0] \n",
    "df['sum_gamerounds'].describe()\n",
    "# We now see the min is 1.00 , that's excellent, this means everyone played at least once. "
   ]
  },
  {
   "cell_type": "markdown",
   "id": "f243b728",
   "metadata": {},
   "source": [
    "To further explain, in this A/B testing experiment, I have moved from ITT (Intention-to-Treat) to Per-Protocol population. So instead of the install-to-retain funnel, I am looking at the active users and looking at data that reflects the game's changes and effects on engaged players. This is to ensure the users included in this analysis engaged with the game and were exposed to the experimental condition."
   ]
  },
  {
   "cell_type": "code",
   "execution_count": 23,
   "id": "bb1b9027",
   "metadata": {},
   "outputs": [
    {
     "data": {
      "image/png": "[encoded data removed]",
      "text/plain": [
       "<Figure size 800x500 with 1 Axes>"
      ]
     },
     "metadata": {},
     "output_type": "display_data"
    }
   ],
   "source": [
    "retention_melted = df.melt(\n",
    "    id_vars='version', \n",
    "    value_vars=['retention_1', 'retention_7'], \n",
    "    var_name='day', \n",
    "    value_name='retained'\n",
    ")\n",
    "retention_melted.head() \n",
    "\n",
    "sns.set_theme(style=\"whitegrid\")\n",
    "\n",
    "fig, ax = plt.subplots(figsize=(8,5))\n",
    "\n",
    "# Plot means with 95% CIs\n",
    "ax = sns.barplot(\n",
    "    data=retention_melted,\n",
    "    x='day', y='retained', hue='version',\n",
    "    estimator=np.mean,\n",
    "    errorbar=('ci', 95)\n",
    ")\n",
    "\n",
    "# Percent axis\n",
    "ax.yaxis.set_major_formatter(mtick.PercentFormatter(1.0))\n",
    "\n",
    "# Nice spine and layout\n",
    "sns.despine()\n",
    "plt.title(\"Day 1 and Day 7 Retention by Game Version\", fontsize=13, weight='bold')\n",
    "plt.ylabel(\"Retention Rate (%)\")\n",
    "plt.xlabel(\"\")\n",
    "plt.tight_layout()\n",
    "\n",
    "# Add percent labels on the bars\n",
    "for container in ax.containers:\n",
    "    heights = [b.get_height()*100 for b in container]\n",
    "    ax.bar_label(container, labels=[f\"{h:.1f}%\" for h in heights],\n",
    "                 label_type='edge', fontsize=9)\n",
    "\n",
    "plt.show()"
   ]
  },
  {
   "cell_type": "markdown",
   "id": "deba6728",
   "metadata": {},
   "source": [
    "So we’ve just visualized retention differences between the two experimental versions (gate_30 vs gate_40), but we need to know whether those differences are statistically significant or could have occurred by chance. Since retention_1 and retention_7 are binary ( 1 = retained, 0 = not retained), a two-proportion z-test is the correct statistical test to compare retention rates between groups. We test the null hypothesis H0 as retention rate for gate_30 = retention rate for gate_40. In other words, there is no difference. Alternative hypothesis is these retention rates are not equal. If the resulting p-value is less than 0.05, the difference is statistically significant."
   ]
  },
  {
   "cell_type": "code",
   "execution_count": 19,
   "id": "774f9540",
   "metadata": {},
   "outputs": [
    {
     "name": "stdout",
     "output_type": "stream",
     "text": [
      "retention_1: z=1.577, p=0.1147\n",
      "retention_7: z=3.013, p=0.002587\n"
     ]
    }
   ],
   "source": [
    "from statsmodels.stats.proportion import proportions_ztest\n",
    "\n",
    "for col in ['retention_1', 'retention_7']:\n",
    "    successes = df.groupby('version', observed = True)[col].sum()\n",
    "    total = df.groupby('version', observed = True)[col].count()\n",
    "    stat, pval = proportions_ztest(successes, total)\n",
    "    print(f\"{col}: z={stat:.3f}, p={pval:.4g}\") "
   ]
  },
  {
   "cell_type": "markdown",
   "id": "f2f0973b",
   "metadata": {},
   "source": [
    "### Statistical Significance (Two-Proportion Z-Test)\n",
    "\n",
    "Here I compare binary retention rates between `gate_30` and `gate_40` using a two-proportion z-test.\n",
    "\n",
    "- **H₀:** Retention rate (`gate_30`) = Retention rate (`gate_40`)  \n",
    "- **H₁:** Retention rates differ\n",
    "\n",
    "I report z-statistic, p-value, and 95% CIs (Wilson) per group, plus the **percentage-point delta** and a CI for the difference. A result is considered statistically significant at α = 0.05.\n"
   ]
  },
  {
   "cell_type": "code",
   "execution_count": null,
   "id": "2c5c4dee",
   "metadata": {},
   "outputs": [
    {
     "data": {
      "text/html": [
       "<style type=\"text/css\">\n",
       "</style>\n",
       "<table id=\"T_1917e\">\n",
       "  <thead>\n",
       "    <tr>\n",
       "      <th id=\"T_1917e_level0_col0\" class=\"col_heading level0 col0\" >gate_30 rate</th>\n",
       "      <th id=\"T_1917e_level0_col1\" class=\"col_heading level0 col1\" >gate_40 rate</th>\n",
       "      <th id=\"T_1917e_level0_col2\" class=\"col_heading level0 col2\" >diff (pp)</th>\n",
       "      <th id=\"T_1917e_level0_col3\" class=\"col_heading level0 col3\" >z</th>\n",
       "      <th id=\"T_1917e_level0_col4\" class=\"col_heading level0 col4\" >p</th>\n",
       "      <th id=\"T_1917e_level0_col5\" class=\"col_heading level0 col5\" >gate_30 CI low</th>\n",
       "      <th id=\"T_1917e_level0_col6\" class=\"col_heading level0 col6\" >gate_30 CI high</th>\n",
       "      <th id=\"T_1917e_level0_col7\" class=\"col_heading level0 col7\" >gate_40 CI low</th>\n",
       "      <th id=\"T_1917e_level0_col8\" class=\"col_heading level0 col8\" >gate_40 CI high</th>\n",
       "      <th id=\"T_1917e_level0_col9\" class=\"col_heading level0 col9\" >diff CI low</th>\n",
       "      <th id=\"T_1917e_level0_col10\" class=\"col_heading level0 col10\" >diff CI high</th>\n",
       "    </tr>\n",
       "  </thead>\n",
       "  <tbody>\n",
       "    <tr>\n",
       "      <td id=\"T_1917e_row0_col0\" class=\"data row0 col0\" >46.75%</td>\n",
       "      <td id=\"T_1917e_row0_col1\" class=\"data row0 col1\" >46.22%</td>\n",
       "      <td id=\"T_1917e_row0_col2\" class=\"data row0 col2\" >-0.54</td>\n",
       "      <td id=\"T_1917e_row0_col3\" class=\"data row0 col3\" >1.580</td>\n",
       "      <td id=\"T_1917e_row0_col4\" class=\"data row0 col4\" >0.1100</td>\n",
       "      <td id=\"T_1917e_row0_col5\" class=\"data row0 col5\" >46.28</td>\n",
       "      <td id=\"T_1917e_row0_col6\" class=\"data row0 col6\" >47.23</td>\n",
       "      <td id=\"T_1917e_row0_col7\" class=\"data row0 col7\" >45.75</td>\n",
       "      <td id=\"T_1917e_row0_col8\" class=\"data row0 col8\" >46.69</td>\n",
       "      <td id=\"T_1917e_row0_col9\" class=\"data row0 col9\" >-1.20</td>\n",
       "      <td id=\"T_1917e_row0_col10\" class=\"data row0 col10\" >+0.13</td>\n",
       "    </tr>\n",
       "    <tr>\n",
       "      <td id=\"T_1917e_row1_col0\" class=\"data row1 col0\" >19.84%</td>\n",
       "      <td id=\"T_1917e_row1_col1\" class=\"data row1 col1\" >19.03%</td>\n",
       "      <td id=\"T_1917e_row1_col2\" class=\"data row1 col2\" >-0.81</td>\n",
       "      <td id=\"T_1917e_row1_col3\" class=\"data row1 col3\" >3.010</td>\n",
       "      <td id=\"T_1917e_row1_col4\" class=\"data row1 col4\" >0.0000</td>\n",
       "      <td id=\"T_1917e_row1_col5\" class=\"data row1 col5\" >19.47</td>\n",
       "      <td id=\"T_1917e_row1_col6\" class=\"data row1 col6\" >20.22</td>\n",
       "      <td id=\"T_1917e_row1_col7\" class=\"data row1 col7\" >18.67</td>\n",
       "      <td id=\"T_1917e_row1_col8\" class=\"data row1 col8\" >19.40</td>\n",
       "      <td id=\"T_1917e_row1_col9\" class=\"data row1 col9\" >-1.34</td>\n",
       "      <td id=\"T_1917e_row1_col10\" class=\"data row1 col10\" >-0.28</td>\n",
       "    </tr>\n",
       "  </tbody>\n",
       "</table>\n"
      ],
      "text/plain": [
       "<pandas.io.formats.style.Styler at 0x1d3bfc5dc70>"
      ]
     },
     "metadata": {},
     "output_type": "display_data"
    }
   ],
   "source": [
    "from statsmodels.stats.proportion import proportions_ztest, proportion_confint\n",
    "try:\n",
    "    from statsmodels.stats.proportion import confint_proportions_2indep\n",
    "    HAS_DIFF_CI = True\n",
    "except Exception:\n",
    "    HAS_DIFF_CI = False\n",
    "\n",
    "def render_retention_summary(df):\n",
    "    df_active = df[df['sum_gamerounds'] > 0].copy()\n",
    "\n",
    "    def group_stats(col):\n",
    "        g = df_active.groupby('version', observed=True)[col]\n",
    "        successes = g.sum().astype(int)\n",
    "        totals    = g.count().astype(int)\n",
    "        rates     = successes / totals\n",
    "\n",
    "        s = successes.reindex(['gate_30','gate_40'])\n",
    "        t = totals.reindex(['gate_30','gate_40'])\n",
    "        z, p = proportions_ztest(s, t)\n",
    "\n",
    "        ci_30 = proportion_confint(s['gate_30'], t['gate_30'], method='wilson')\n",
    "        ci_40 = proportion_confint(s['gate_40'], t['gate_40'], method='wilson')\n",
    "\n",
    "        diff = rates['gate_40'] - rates['gate_30']\n",
    "        if HAS_DIFF_CI:\n",
    "            lo, hi = confint_proportions_2indep(\n",
    "                s['gate_40'], t['gate_40'],\n",
    "                s['gate_30'], t['gate_30'],\n",
    "                method='wald'\n",
    "            )\n",
    "        else:\n",
    "            lo, hi = (np.nan, np.nan)\n",
    "\n",
    "        return pd.Series({\n",
    "            'gate_30 rate': rates['gate_30']*100,\n",
    "            'gate_40 rate': rates['gate_40']*100,\n",
    "            'diff (pp)':   diff*100,\n",
    "            'z': z, 'p': p,\n",
    "            'gate_30 CI low':  ci_30[0]*100, 'gate_30 CI high': ci_30[1]*100,\n",
    "            'gate_40 CI low':  ci_40[0]*100, 'gate_40 CI high': ci_40[1]*100,\n",
    "            'diff CI low': lo*100, 'diff CI high': hi*100\n",
    "        })\n",
    "\n",
    "    summary = pd.concat(\n",
    "        [group_stats('retention_1'), group_stats('retention_7')], axis=1\n",
    "    ).T\n",
    "    summary.index = ['retention_1','retention_7']\n",
    "\n",
    "    styled = (summary.round(2)\n",
    "              .style.format({\n",
    "                  'gate_30 rate':'{:.2f}%', 'gate_40 rate':'{:.2f}%',\n",
    "                  'diff (pp)':'{:+.2f}', 'z':'{:.3f}', 'p':'{:.4f}',\n",
    "                  'gate_30 CI low':'{:.2f}', 'gate_30 CI high':'{:.2f}',\n",
    "                  'gate_40 CI low':'{:.2f}', 'gate_40 CI high':'{:.2f}',\n",
    "                  'diff CI low':'{:+.2f}', 'diff CI high':'{:+.2f}',\n",
    "              }).hide(axis='index'))\n",
    "    display(styled)\n",
    "    return summary  # raw numbers if you want to save/export\n",
    "\n",
    "summary = render_retention_summary(df)"
   ]
  },
  {
   "cell_type": "code",
   "execution_count": 21,
   "id": "445a3e05",
   "metadata": {},
   "outputs": [
    {
     "data": {
      "text/plain": [
       "np.float64(0.020471077330752485)"
      ]
     },
     "execution_count": 21,
     "metadata": {},
     "output_type": "execute_result"
    }
   ],
   "source": [
    "p1, p2 = 0.1984, 0.1903  # convert percentages to proportions\n",
    "h = 2 * (np.arcsin(np.sqrt(p1)) - np.arcsin(np.sqrt(p2)))\n",
    "abs(h)"
   ]
  },
  {
   "cell_type": "code",
   "execution_count": 22,
   "id": "0c621939",
   "metadata": {},
   "outputs": [
    {
     "data": {
      "text/plain": [
       "<Figure size 640x480 with 0 Axes>"
      ]
     },
     "metadata": {},
     "output_type": "display_data"
    }
   ],
   "source": [
    "import pathlib, matplotlib.pyplot as plt\n",
    "pathlib.Path(\"analysis/figures\").mkdir(parents=True, exist_ok=True)\n",
    "plt.savefig(\"analysis/figures/retention_by_version.png\", dpi=200, bbox_inches=\"tight\")\n",
    "\n",
    "summary.to_csv(\"analysis/retention_summary.csv\", index=True)"
   ]
  },
  {
   "cell_type": "markdown",
   "id": "e62ca469",
   "metadata": {},
   "source": [
    "### Effect Size & Interpretation\n",
    "\n",
    "The absolute difference in Day-7 retention (Δ = −0.81 pp) represents the **effect size** of the experiment.  \n",
    "While statistically significant (p ≈ 0.0026), the standardized Cohen’s h ≈ 0.02 indicates a **very small** practical impact.  \n",
    "Thus, moving the gate from level 30 → 40 slightly reduced long-term retention without producing a meaningful user-experience gain."
   ]
  },
  {
   "cell_type": "markdown",
   "id": "06fe0502",
   "metadata": {},
   "source": [
    "## Results & Recommendation\n",
    "\n",
    "- **D1 retention:** difference not statistically significant (p ≈ 0.115).  \n",
    "- **D7 retention:** **significant decrease** when moving the gate to level 40 (p ≈ 0.0026).  \n",
    "- Effect size: ΔD7 ≈ -0.81 percentage points (gate_40 − gate_30).  \n",
    "- **Business Takeaway:** Although the statistical difference in Day 7 retention is small (−0.8 pp),\n",
    "even small drops at scale can translate into meaningful revenue loss for live-service games. Keep the gate at **level 30**. Despite appearing player-friendly, delaying the gate likely removed an early commitment point that helps medium-term engagement. \n",
    "\n",
    "**Notes.** I exclude users with `sum_gamerounds == 0` (no activation). ITT analysis (all users) is available as a sensitivity check and yields the same directional conclusion.\n"
   ]
  }
 ],
 "metadata": {
  "kernelspec": {
   "display_name": "Python 3",
   "language": "python",
   "name": "python3"
  },
  "language_info": {
   "codemirror_mode": {
    "name": "ipython",
    "version": 3
   },
   "file_extension": ".py",
   "mimetype": "text/x-python",
   "name": "python",
   "nbconvert_exporter": "python",
   "pygments_lexer": "ipython3",
   "version": "3.12.0"
  }
 },
 "nbformat": 4,
 "nbformat_minor": 5
}
